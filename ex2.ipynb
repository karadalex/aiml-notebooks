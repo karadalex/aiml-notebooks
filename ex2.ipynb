{
 "cells": [
  {
   "cell_type": "markdown",
   "metadata": {},
   "source": [
    "Ερώτημα 2\n",
    "========="
   ]
  },
  {
   "cell_type": "code",
   "execution_count": 1,
   "metadata": {
    "tags": []
   },
   "outputs": [
    {
     "output_type": "stream",
     "name": "stdout",
     "text": "Diastaseis (24000, 2)\n"
    },
    {
     "output_type": "execute_result",
     "data": {
      "text/plain": "                                                text  label\n0  Entire Facebook Staff Laughs As Man Tightens P...      1\n1  Muslim Woman Denied Soda Can for Fear She Coul...      0\n2  Bold Move: Hulu Has Announced That They’re Gon...      1\n3  Despondent Jeff Bezos Realizes He’ll Have To W...      1\n4  For men looking for great single women, online...      1",
      "text/html": "<div>\n<style scoped>\n    .dataframe tbody tr th:only-of-type {\n        vertical-align: middle;\n    }\n\n    .dataframe tbody tr th {\n        vertical-align: top;\n    }\n\n    .dataframe thead th {\n        text-align: right;\n    }\n</style>\n<table border=\"1\" class=\"dataframe\">\n  <thead>\n    <tr style=\"text-align: right;\">\n      <th></th>\n      <th>text</th>\n      <th>label</th>\n    </tr>\n  </thead>\n  <tbody>\n    <tr>\n      <th>0</th>\n      <td>Entire Facebook Staff Laughs As Man Tightens P...</td>\n      <td>1</td>\n    </tr>\n    <tr>\n      <th>1</th>\n      <td>Muslim Woman Denied Soda Can for Fear She Coul...</td>\n      <td>0</td>\n    </tr>\n    <tr>\n      <th>2</th>\n      <td>Bold Move: Hulu Has Announced That They’re Gon...</td>\n      <td>1</td>\n    </tr>\n    <tr>\n      <th>3</th>\n      <td>Despondent Jeff Bezos Realizes He’ll Have To W...</td>\n      <td>1</td>\n    </tr>\n    <tr>\n      <th>4</th>\n      <td>For men looking for great single women, online...</td>\n      <td>1</td>\n    </tr>\n  </tbody>\n</table>\n</div>"
     },
     "metadata": {},
     "execution_count": 1
    }
   ],
   "source": [
    "import pandas as pd\n",
    "\n",
    "data = pd.read_csv(\"./data/onion-or-not.csv\")\n",
    "print(\"Diastaseis {}\".format(data.shape))\n",
    "data.head()"
   ]
  },
  {
   "cell_type": "markdown",
   "metadata": {},
   "source": [
    "Δημιουργία διανύσματος λέξεων"
   ]
  },
  {
   "cell_type": "code",
   "execution_count": 2,
   "metadata": {
    "tags": []
   },
   "outputs": [],
   "source": [
    "original_words = [text.split(\" \") for text in data[\"text\"]]"
   ]
  },
  {
   "cell_type": "markdown",
   "metadata": {},
   "source": [
    "Επεξεργασία διανύσματος λέξεων"
   ]
  },
  {
   "cell_type": "code",
   "execution_count": 3,
   "metadata": {
    "tags": []
   },
   "outputs": [],
   "source": [
    "from nltk.stem import PorterStemmer\n",
    "\n",
    "ps = PorterStemmer()\n",
    "processed_words = []\n",
    "\n",
    "# Stemming\n",
    "for sentence in original_words:\n",
    "    processed_words.append([ps.stem(word) for word in sentence])"
   ]
  },
  {
   "cell_type": "code",
   "execution_count": 4,
   "metadata": {
    "tags": []
   },
   "outputs": [],
   "source": [
    "import nltk\n",
    "from nltk.corpus import stopwords\n",
    "\n",
    "# Stop words removal\n",
    "try:\n",
    "    stop_words = set(stopwords.words('english'))\n",
    "except:\n",
    "    nltk.download('stopwords')\n",
    "    stop_words = set(stopwords.words('english'))\n",
    "\n",
    "for i in range(len(processed_words)):\n",
    "    j = 0\n",
    "    while j < len(processed_words[i]):\n",
    "        word = processed_words[i][j]\n",
    "        if word in stop_words:\n",
    "            processed_words[i].pop(j)\n",
    "        j += 1"
   ]
  },
  {
   "cell_type": "markdown",
   "metadata": {},
   "source": [
    "Υπολογισμός tf-idf μετρικής"
   ]
  },
  {
   "cell_type": "code",
   "execution_count": 5,
   "metadata": {
    "tags": []
   },
   "outputs": [],
   "source": [
    "import numpy as np\n",
    "from joblib import Parallel, delayed\n",
    "import multiprocessing\n",
    "\n",
    "# N = len(processed_words)\n",
    "N = 1000\n",
    "sentence_lengths = [len(processed_words[i]) for i in range(N)]\n",
    "M = max(sentence_lengths)\n",
    "words_num = sum(sentence_lengths)\n",
    "\n",
    "# Custom code - Not working well\n",
    "# f = np.zeros([N, M])\n",
    "# for i in range(N):\n",
    "#     sentence = processed_words[i]\n",
    "#     for j in range(len(sentence)):\n",
    "#         word = sentence[j]\n",
    "#         f[i][j] = sentence.count(word) / words_num\n",
    "# tf = f/f.max()\n",
    "\n",
    "\n",
    "# def countApperances(i):\n",
    "#     dfi = []\n",
    "#     # dfi = Parallel(n_jobs=num_cores)(delayed(countWordApperances)(i,j) for j in range(len(processed_words[i])))\n",
    "#     dfi = [countWordApperances(i,j) for j in range(len(processed_words[i]))]\n",
    "#     # print(dfi)\n",
    "#     dfi = np.array(dfi)\n",
    "#     return dfi\n",
    "\n",
    "# def countWordApperances(i,j):\n",
    "#     word = processed_words[i][j]\n",
    "#     dfij = np.array([word in sentence for sentence in processed_words]).sum()\n",
    "#     return dfij\n",
    "\n",
    "# num_cores = multiprocessing.cpu_count()\n",
    "# # df = Parallel(n_jobs=num_cores, verbose=10)(delayed(countApperances)(i) for i in range(N))\n",
    "# df = [countApperances(i) for i in range(N)]\n",
    "# df = np.array(df)\n",
    "\n",
    "# idf = np.zeros([N,M])\n",
    "# idf = N/df\n",
    "# idf = np.array([np.log2(idf[i]) for i in range(len(idf))])\n"
   ]
  },
  {
   "cell_type": "code",
   "execution_count": 6,
   "metadata": {},
   "outputs": [],
   "source": [
    "from sklearn.feature_extraction.text import TfidfVectorizer\n",
    "\n",
    "tfidf = TfidfVectorizer()\n",
    "X = tfidf.fit_transform(data[\"text\"].to_numpy())\n",
    "Y = data[\"label\"].to_numpy()"
   ]
  },
  {
   "cell_type": "code",
   "execution_count": 8,
   "metadata": {
    "tags": []
   },
   "outputs": [
    {
     "output_type": "stream",
     "name": "stdout",
     "text": "0.24772077883846477\n(24000, 24526)\n"
    }
   ],
   "source": [
    "print(X[0, tfidf.vocabulary_['facebook']])\n",
    "print(X.shape)"
   ]
  }
 ],
 "metadata": {
  "language_info": {
   "codemirror_mode": {
    "name": "ipython",
    "version": 3
   },
   "file_extension": ".py",
   "mimetype": "text/x-python",
   "name": "python",
   "nbconvert_exporter": "python",
   "pygments_lexer": "ipython3",
   "version": 3
  },
  "orig_nbformat": 2,
  "kernelspec": {
   "name": "python_defaultSpec_1593849056702",
   "display_name": "Python 3.7.4 64-bit ('anaconda3': conda)"
  }
 },
 "nbformat": 4,
 "nbformat_minor": 2
}